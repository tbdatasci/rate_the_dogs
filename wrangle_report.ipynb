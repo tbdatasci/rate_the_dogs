{
 "cells": [
  {
   "cell_type": "markdown",
   "metadata": {},
   "source": [
    "# Wrangle Report"
   ]
  },
  {
   "cell_type": "markdown",
   "metadata": {},
   "source": [
    "## In this project, I collected data from three different sources:\n",
    "\n",
    "### 1.  A csv file sent to me\n",
    "This data was easily read into a pandas dataframe using a pandas' read_csv command.\n",
    "### 2.  A file located on the internet\n",
    "This data was extracted using the applicable url as well as some IO decoding commands followed then by pandas' read_csv command.\n",
    "### 3.  Tweets on Twitter using Twitter's API\n",
    "This was significantly more involved than the other two.  I had to acquire a Twitter API license with an accompanying reason for my access request. After that, I queried Twitter's API using a package called \"tweepy\", which is designed to allow a Python user to interact with Twitter's API.  This allowed me to get JSON data for each Tweet into Python, which I then wrote to a .txt file.  After that, I read the JSON data into a pandas dataframe, where I could better extract the data I wanted (number of favorites and number of retweets per tweet)."
   ]
  },
  {
   "cell_type": "markdown",
   "metadata": {},
   "source": [
    "## After that, I needed to clean the csv file that was sent to me\n",
    "### These were primarily a number of small things:"
   ]
  },
  {
   "cell_type": "markdown",
   "metadata": {},
   "source": [
    "### Quality\n",
    "\n",
    "1.  There are retweeted statuses in our dataset\n",
    "2.  There are many null values in the ID columns\n",
    "3.  Expanded urls have non-Twitter urls sometimes\n",
    "4.  Expanded urls have repeated Twitter urls\n",
    "5.  Tweet_ID columns in df_archive and df_images should be strings because they are labels rather than being used numerically\n",
    "6.  img_num in df_images should be strings because they are labels rather than being used numerically\n",
    "7.  Convert timestamp from string to date so we could use it as a time-based feature\n",
    "8.  Unexpected values in the denominators\n",
    "9.  Convert number of favorites and number of retweets in df_scrapes to integers so we can numerically analyze them\n",
    "\n",
    "\n",
    "### Tidiness\n",
    "\n",
    "1.  The dog types should all be in one column\n",
    "2.  The three datasets should be merged"
   ]
  },
  {
   "cell_type": "markdown",
   "metadata": {},
   "source": [
    "## Next, the three separate dataframes were combined\n",
    "### I elected to combine them because all three are attributes of each given Tweet.  Hence, it seemed like they should all be together.\n",
    "\n",
    "This was done through standard merge statements."
   ]
  },
  {
   "cell_type": "markdown",
   "metadata": {},
   "source": [
    "## Finally, I then created three insights and a visualization.\n",
    "### The insights examined the type of dog's effect on favorites, retweets, and total number of posts.  The visualization looked at which breed of dog was most prevalent on We Rate Dogs."
   ]
  }
 ],
 "metadata": {
  "kernelspec": {
   "display_name": "Python 3",
   "language": "python",
   "name": "python3"
  },
  "language_info": {
   "codemirror_mode": {
    "name": "ipython",
    "version": 3
   },
   "file_extension": ".py",
   "mimetype": "text/x-python",
   "name": "python",
   "nbconvert_exporter": "python",
   "pygments_lexer": "ipython3",
   "version": "3.6.3"
  }
 },
 "nbformat": 4,
 "nbformat_minor": 2
}
